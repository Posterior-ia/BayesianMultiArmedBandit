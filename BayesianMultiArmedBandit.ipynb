{
  "nbformat": 4,
  "nbformat_minor": 0,
  "metadata": {
    "colab": {
      "provenance": []
    },
    "kernelspec": {
      "name": "python3",
      "display_name": "Python 3"
    },
    "language_info": {
      "name": "python"
    }
  },
  "cells": [
    {
      "cell_type": "code",
      "source": [
        "import numpy as np\n",
        "import seaborn as sns\n",
        "from scipy.stats import beta, uniform, poisson, bernoulli\n",
        "import scipy.integrate as integrate\n",
        "import matplotlib.pyplot as plt"
      ],
      "metadata": {
        "id": "KFn_ntgb9BMc"
      },
      "execution_count": 1,
      "outputs": []
    },
    {
      "cell_type": "code",
      "source": [
        "y = np.array([20, 2])\n",
        "n = np.array([50, 3])"
      ],
      "metadata": {
        "id": "iOfcMuywrUTU"
      },
      "execution_count": 5,
      "outputs": []
    },
    {
      "cell_type": "code",
      "source": [
        "y = np.array([20, 20])\n",
        "n = np.array([50, 30])"
      ],
      "metadata": {
        "id": "0QwZ8uX9sV5L"
      },
      "execution_count": 3,
      "outputs": []
    },
    {
      "cell_type": "code",
      "source": [
        "y = np.array([1, 1])\n",
        "n = np.array([1, 1])"
      ],
      "metadata": {
        "id": "Nh204hCQN9Nn"
      },
      "execution_count": 8,
      "outputs": []
    },
    {
      "cell_type": "code",
      "execution_count": 6,
      "metadata": {
        "id": "S2zigce53V6K"
      },
      "outputs": [],
      "source": [
        "def probOpt(y, n):\n",
        "    k = y.size\n",
        "    ans = np.zeros(k)\n",
        "    for i in range(0, k):\n",
        "        indx = np.delete(np.arange(0,k), i, 0)\n",
        "        def f(x):\n",
        "            r = beta.pdf(x, y[i]+1, n[i]-y[i]+1)\n",
        "            for j in indx:\n",
        "                r = r * beta.cdf(x, y[j]+1, n[j]-y[j]+1)\n",
        "            return r\n",
        "        ans[i] = integrate.quad(f, 0, 1)[0]\n",
        "    return ans\n"
      ]
    },
    {
      "cell_type": "code",
      "source": [
        "probOpt(y, n)"
      ],
      "metadata": {
        "colab": {
          "base_uri": "https://localhost:8080/"
        },
        "id": "4cRfYDoBgqDR",
        "outputId": "e1bf0253-a817-416d-f324-9fa326249649"
      },
      "execution_count": 7,
      "outputs": [
        {
          "output_type": "execute_result",
          "data": {
            "text/plain": [
              "array([0.1921303, 0.8078697])"
            ]
          },
          "metadata": {},
          "execution_count": 7
        }
      ]
    },
    {
      "cell_type": "code",
      "source": [
        "def simPost(y, n, ndraws):\n",
        "    k = y.size\n",
        "    ans = np.zeros([ndraws, k])\n",
        "    no = n-y\n",
        "    for i in range(0, k):\n",
        "        ans[:, i] = beta.rvs(y[i]+1, no[i]+1, size=ndraws)\n",
        "    return ans\n",
        "\n",
        "def probWinner(post):\n",
        "    k = y.size\n",
        "    w = np.zeros(k)\n",
        "    n = np.argmax(post, 1) #np.sort(np.max(post, 0))\n",
        "    for i in range(0, k):\n",
        "        w[i] = np.sum(n==i)\n",
        "    return w/sum(w)\n",
        "\n",
        "def computeWinProb(y, n, ndraws):\n",
        "    return probWinner(simPost(y, n, ndraws))"
      ],
      "metadata": {
        "id": "n2SdHd8ahQYf"
      },
      "execution_count": null,
      "outputs": []
    },
    {
      "cell_type": "code",
      "source": [
        "computeWinProb(y, n , 1000)"
      ],
      "metadata": {
        "colab": {
          "base_uri": "https://localhost:8080/"
        },
        "id": "WxCbU4rFhtz1",
        "outputId": "2a581365-7629-4160-bfbf-56028ce74622"
      },
      "execution_count": null,
      "outputs": [
        {
          "output_type": "execute_result",
          "data": {
            "text/plain": [
              "array([0.008, 0.992])"
            ]
          },
          "metadata": {},
          "execution_count": 65
        }
      ]
    },
    {
      "cell_type": "code",
      "source": [
        "class BMAP:\n",
        "    def __init__(self, narms, sim=True):\n",
        "        self.narms = narms\n",
        "        self.theta = self.genParameters(self.narms, True)\n",
        "        self.muopt = self.theta.max()\n",
        "        self.mupred = np.zeros(narms)\n",
        "        self.loss = []\n",
        "\n",
        "    def genParameters(self, narms, verbose=False):\n",
        "        theta = uniform.rvs(size=narms)\n",
        "        if verbose: print('Parameters of the arms: {}'.format(theta))\n",
        "        return theta\n",
        "    \n",
        "    def regret(self, muopt, mupred, n):\n",
        "        result = 0\n",
        "        for a in range(len(n)):\n",
        "            result += n[a]*(muopt - mupred[a])\n",
        "        return result\n",
        "\n",
        "    def getpriors(self):\n",
        "        y = np.ones(self.narms)\n",
        "        n = np.ones(self.narms)\n",
        "        return y, n\n",
        "\n",
        "    def run(self, nexp):\n",
        "        self.y, self.n = self.getpriors()\n",
        "        self.w = probOpt(self.y, self.n)\n",
        "        for i in range(nexp):\n",
        "            numobs = 100 #1000\n",
        "            l = 0\n",
        "            ntemp = np.zeros_like(self.n)\n",
        "            for j in range(numobs):\n",
        "                arm = np.random.choice(self.narms, 1, p=self.w)[0]\n",
        "                succes = bernoulli.rvs(self.theta[arm], size=1)[0]\n",
        "                self.n[arm] += 1\n",
        "                self.y[arm] += succes\n",
        "                ntemp[arm] += 1\n",
        "            self.w = probOpt(self.y, self.n)\n",
        "            l = self.regret(self.muopt, self.theta, ntemp)\n",
        "            self.loss.append(l)\n",
        "\n",
        "    "
      ],
      "metadata": {
        "id": "FEGIeZvpJa_F"
      },
      "execution_count": 85,
      "outputs": []
    },
    {
      "cell_type": "code",
      "source": [
        "bandit = BMAP(5)"
      ],
      "metadata": {
        "colab": {
          "base_uri": "https://localhost:8080/"
        },
        "id": "me5OFQaaTw0n",
        "outputId": "a90ef785-fa91-4780-e363-038b2c49265c"
      },
      "execution_count": 86,
      "outputs": [
        {
          "output_type": "stream",
          "name": "stdout",
          "text": [
            "Parameters of the arms: [0.79303318 0.8320197  0.26840587 0.93906207 0.78343392]\n"
          ]
        }
      ]
    },
    {
      "cell_type": "code",
      "source": [
        "bandit.run(100)"
      ],
      "metadata": {
        "id": "xMRXdWH-UOoD"
      },
      "execution_count": 87,
      "outputs": []
    },
    {
      "cell_type": "code",
      "source": [
        "plt.plot(bandit.loss)"
      ],
      "metadata": {
        "colab": {
          "base_uri": "https://localhost:8080/",
          "height": 447
        },
        "id": "X2apZtWOVrwY",
        "outputId": "3153ff63-60d8-4814-a12d-4d8141b3e1ec"
      },
      "execution_count": 88,
      "outputs": [
        {
          "output_type": "execute_result",
          "data": {
            "text/plain": [
              "[<matplotlib.lines.Line2D at 0x7fbe8e3f0460>]"
            ]
          },
          "metadata": {},
          "execution_count": 88
        },
        {
          "output_type": "display_data",
          "data": {
            "text/plain": [
              "<Figure size 640x480 with 1 Axes>"
            ],
            "image/png": "[encoded data removed]"
          },
          "metadata": {}
        }
      ]
    },
    {
      "cell_type": "code",
      "source": [
        "bandit.theta"
      ],
      "metadata": {
        "colab": {
          "base_uri": "https://localhost:8080/"
        },
        "id": "f84szNrZWbfj",
        "outputId": "71aa7156-0fad-4f31-d819-4eadb9fd0173"
      },
      "execution_count": 83,
      "outputs": [
        {
          "output_type": "execute_result",
          "data": {
            "text/plain": [
              "array([0.51778816, 0.11737446, 0.4402499 , 0.61311282, 0.89815347])"
            ]
          },
          "metadata": {},
          "execution_count": 83
        }
      ]
    },
    {
      "cell_type": "code",
      "source": [
        "bandit.w"
      ],
      "metadata": {
        "colab": {
          "base_uri": "https://localhost:8080/"
        },
        "id": "R5nqu6SO55L_",
        "outputId": "3f3338ff-64cd-48c3-b9e6-4ecca8869088"
      },
      "execution_count": 84,
      "outputs": [
        {
          "output_type": "execute_result",
          "data": {
            "text/plain": [
              "array([2.83455508e-03, 1.33095065e-04, 6.91309777e-04, 2.84717629e-03,\n",
              "       9.93493864e-01])"
            ]
          },
          "metadata": {},
          "execution_count": 84
        }
      ]
    },
    {
      "cell_type": "code",
      "source": [
        "bandit.y/bandit.n"
      ],
      "metadata": {
        "colab": {
          "base_uri": "https://localhost:8080/"
        },
        "id": "lzxeJbq3Zbbt",
        "outputId": "27a1d901-4cc9-4d72-c6d4-1022642f20ba"
      },
      "execution_count": 63,
      "outputs": [
        {
          "output_type": "execute_result",
          "data": {
            "text/plain": [
              "array([0.0766129 , 0.06388206, 0.01369863, 0.01449275, 0.05288462])"
            ]
          },
          "metadata": {},
          "execution_count": 63
        }
      ]
    },
    {
      "cell_type": "code",
      "source": [],
      "metadata": {
        "id": "o5uQ_6GSTC-y"
      },
      "execution_count": null,
      "outputs": []
    }
  ]
}